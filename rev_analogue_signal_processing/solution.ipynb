{
 "cells": [
  {
   "cell_type": "code",
   "execution_count": 2,
   "metadata": {},
   "outputs": [],
   "source": [
    "import numpy as np\n",
    "from circuit import *\n",
    "\n",
    "import soundfile as sf\n",
    "import pandas as pd\n",
    "\n",
    "duration = 240\n",
    "SAMPLE_RATE = 0x4000\n",
    "samples = int(duration * SAMPLE_RATE)\n",
    "FLAG = \"HTB{\"\n",
    "\n",
    "def encode_flag(flag, rand):\n",
    "    vin = rand\n",
    "    for i in range(len(flag)):\n",
    "        vout = simulate_chained_circuits([ZLCircuit(1j * ord(flag[i]), 1)], vin, duration, SAMPLE_RATE)[0]\n",
    "        sf.write(f'new_audio/encoded{i}.wav', np.real(vout).astype('float64'), SAMPLE_RATE, subtype='DOUBLE')\n",
    "\n",
    "        vin = vout\n",
    "        print(f'encoded {i} of {len(flag)} characters')"
   ]
  },
  {
   "attachments": {},
   "cell_type": "markdown",
   "metadata": {},
   "source": [
    "Looking at simulate_chained_circuits and simulate_chained_circuits_ we can extract all the variables which are constant for that specific character and come up with the following function:"
   ]
  },
  {
   "cell_type": "code",
   "execution_count": 3,
   "metadata": {},
   "outputs": [],
   "source": [
    "def make_circuit(flag_char):\n",
    "    c = ZLCircuit(1j * ord(flag_char), 1)\n",
    "    chain = chained_to_state_space([c])\n",
    "    n = 1\n",
    "    vout_coeffs = chain[0]\n",
    "    vin_coeff = chain[1]\n",
    "\n",
    "    state = np.zeros(n, dtype='complex')\n",
    "\n",
    "    A = np.diag(np.ones(n - 1, dtype='complex'), k=1)\n",
    "    A[-1, :] = vout_coeffs\n",
    "\n",
    "    B = np.zeros(n, dtype='complex')\n",
    "    B[-1] = vin_coeff\n",
    "\n",
    "    # x(t) = A * x(t - 1) + B * u(t)\n",
    "    h = 1 / SAMPLE_RATE\n",
    "    multiplier = h / 24 * (\n",
    "        A@A@A * h**3 + 4 * A@A * h**2 + 12 * A * h + 24 * np.eye(n)\n",
    "    ) # rk4\n",
    "    xn_coeff = (np.eye(state.shape[0]) + multiplier @ A)\n",
    "    return (multiplier, B, xn_coeff)"
   ]
  },
  {
   "attachments": {},
   "cell_type": "markdown",
   "metadata": {},
   "source": [
    "what is left are the following calculations which depend on the input:\n",
    "```python\n",
    "    output = np.zeros(len(times), dtype='complex')\n",
    "    state = np.zeros(1, dtype='complex')\n",
    "    B_un = np.transpose(np.dot(multiplier, np.transpose(np.outer(V_in, B))))\n",
    "\n",
    "    for i in range(len(times)):\n",
    "        state = xn_coeff @ state + B_un[i]\n",
    "        output[i] = state[0]\n",
    "\n",
    "    return output, times\n",
    "```"
   ]
  },
  {
   "attachments": {},
   "cell_type": "markdown",
   "metadata": {},
   "source": [
    "plotting B_un and comparing it to V_in on the first iteration:"
   ]
  },
  {
   "cell_type": "code",
   "execution_count": 8,
   "metadata": {},
   "outputs": [
    {
     "data": {
      "text/plain": [
       "<matplotlib.collections.PathCollection at 0x7f5610e01420>"
      ]
     },
     "execution_count": 8,
     "metadata": {},
     "output_type": "execute_result"
    },
    {
     "data": {
      "image/png": "[encoded data removed]",
      "text/plain": [
       "<Figure size 640x480 with 1 Axes>"
      ]
     },
     "metadata": {},
     "output_type": "display_data"
    }
   ],
   "source": [
    "import matplotlib.pyplot as plt\n",
    "\n",
    "multiplier, B, xn_coeff = make_circuit('H')\n",
    "rand = np.random.uniform(-1, 1, samples)\n",
    "B_un = np.transpose(np.dot(multiplier, np.transpose(np.outer(rand, B))))\n",
    "\n",
    "plt.scatter(B_un.real, B_un.imag)"
   ]
  },
  {
   "cell_type": "code",
   "execution_count": 13,
   "metadata": {},
   "outputs": [
    {
     "data": {
      "text/html": [
       "<div>\n",
       "<style scoped>\n",
       "    .dataframe tbody tr th:only-of-type {\n",
       "        vertical-align: middle;\n",
       "    }\n",
       "\n",
       "    .dataframe tbody tr th {\n",
       "        vertical-align: top;\n",
       "    }\n",
       "\n",
       "    .dataframe thead th {\n",
       "        text-align: right;\n",
       "    }\n",
       "</style>\n",
       "<table border=\"1\" class=\"dataframe\">\n",
       "  <thead>\n",
       "    <tr style=\"text-align: right;\">\n",
       "      <th></th>\n",
       "      <th>random</th>\n",
       "      <th>B_un_real</th>\n",
       "      <th>B_un_imag</th>\n",
       "    </tr>\n",
       "  </thead>\n",
       "  <tbody>\n",
       "    <tr>\n",
       "      <th>random</th>\n",
       "      <td>1.0</td>\n",
       "      <td>1.0</td>\n",
       "      <td>1.0</td>\n",
       "    </tr>\n",
       "    <tr>\n",
       "      <th>B_un_real</th>\n",
       "      <td>1.0</td>\n",
       "      <td>1.0</td>\n",
       "      <td>1.0</td>\n",
       "    </tr>\n",
       "    <tr>\n",
       "      <th>B_un_imag</th>\n",
       "      <td>1.0</td>\n",
       "      <td>1.0</td>\n",
       "      <td>1.0</td>\n",
       "    </tr>\n",
       "  </tbody>\n",
       "</table>\n",
       "</div>"
      ],
      "text/plain": [
       "           random  B_un_real  B_un_imag\n",
       "random        1.0        1.0        1.0\n",
       "B_un_real     1.0        1.0        1.0\n",
       "B_un_imag     1.0        1.0        1.0"
      ]
     },
     "execution_count": 13,
     "metadata": {},
     "output_type": "execute_result"
    }
   ],
   "source": [
    "df = pd.DataFrame({'random': rand.reshape(-1), 'B_un_real': B_un.reshape(-1).real, 'B_un_imag': B_un.reshape(-1).imag})\n",
    "df.corr()"
   ]
  },
  {
   "attachments": {},
   "cell_type": "markdown",
   "metadata": {},
   "source": [
    "Seeing that there is a full correlation for the individual values of rand and B_un we can ignore the further values since we get the output of all the iterations in the loop\n",
    "Now we can change the function to take arbitrary sized inputs "
   ]
  },
  {
   "cell_type": "code",
   "execution_count": 15,
   "metadata": {},
   "outputs": [],
   "source": [
    "@nb.jit(nopython=True)\n",
    "def get_vout(V_in, multiplier, B, xn_coeff):\n",
    "    output = np.zeros(len(V_in), dtype='complex')\n",
    "    B_un = np.transpose(np.dot(multiplier, np.transpose(np.outer(V_in, B))))\n",
    "    state = np.zeros(1, dtype='complex')\n",
    "\n",
    "    for i in range(len(V_in)):\n",
    "        state = xn_coeff @ state + B_un[i]\n",
    "        output[i] = state[0]\n",
    "\n",
    "    return output"
   ]
  },
  {
   "attachments": {},
   "cell_type": "markdown",
   "metadata": {},
   "source": [
    "To test this we can run the function with different sized inputs:"
   ]
  },
  {
   "cell_type": "code",
   "execution_count": 20,
   "metadata": {},
   "outputs": [
    {
     "data": {
      "text/html": [
       "<div>\n",
       "<style scoped>\n",
       "    .dataframe tbody tr th:only-of-type {\n",
       "        vertical-align: middle;\n",
       "    }\n",
       "\n",
       "    .dataframe tbody tr th {\n",
       "        vertical-align: top;\n",
       "    }\n",
       "\n",
       "    .dataframe thead th {\n",
       "        text-align: right;\n",
       "    }\n",
       "</style>\n",
       "<table border=\"1\" class=\"dataframe\">\n",
       "  <thead>\n",
       "    <tr style=\"text-align: right;\">\n",
       "      <th></th>\n",
       "      <th>10</th>\n",
       "      <th>100</th>\n",
       "      <th>diff</th>\n",
       "    </tr>\n",
       "  </thead>\n",
       "  <tbody>\n",
       "    <tr>\n",
       "      <th>0</th>\n",
       "      <td>0.000001+0.000407j</td>\n",
       "      <td>0.000001+0.000407j</td>\n",
       "      <td>0.0+0.0j</td>\n",
       "    </tr>\n",
       "    <tr>\n",
       "      <th>1</th>\n",
       "      <td>-0.000005-0.003042j</td>\n",
       "      <td>-0.000005-0.003042j</td>\n",
       "      <td>0.0+0.0j</td>\n",
       "    </tr>\n",
       "    <tr>\n",
       "      <th>2</th>\n",
       "      <td>-0.000013-0.000532j</td>\n",
       "      <td>-0.000013-0.000532j</td>\n",
       "      <td>0.0+0.0j</td>\n",
       "    </tr>\n",
       "    <tr>\n",
       "      <th>3</th>\n",
       "      <td>-0.000019-0.002326j</td>\n",
       "      <td>-0.000019-0.002326j</td>\n",
       "      <td>0.0+0.0j</td>\n",
       "    </tr>\n",
       "    <tr>\n",
       "      <th>4</th>\n",
       "      <td>-0.000032-0.003500j</td>\n",
       "      <td>-0.000032-0.003500j</td>\n",
       "      <td>0.0+0.0j</td>\n",
       "    </tr>\n",
       "    <tr>\n",
       "      <th>5</th>\n",
       "      <td>-0.000049-0.004102j</td>\n",
       "      <td>-0.000049-0.004102j</td>\n",
       "      <td>0.0+0.0j</td>\n",
       "    </tr>\n",
       "    <tr>\n",
       "      <th>6</th>\n",
       "      <td>-0.000075-0.008074j</td>\n",
       "      <td>-0.000075-0.008074j</td>\n",
       "      <td>0.0+0.0j</td>\n",
       "    </tr>\n",
       "    <tr>\n",
       "      <th>7</th>\n",
       "      <td>-0.000111-0.008279j</td>\n",
       "      <td>-0.000111-0.008279j</td>\n",
       "      <td>0.0+0.0j</td>\n",
       "    </tr>\n",
       "    <tr>\n",
       "      <th>8</th>\n",
       "      <td>-0.000150-0.009447j</td>\n",
       "      <td>-0.000150-0.009447j</td>\n",
       "      <td>0.0+0.0j</td>\n",
       "    </tr>\n",
       "    <tr>\n",
       "      <th>9</th>\n",
       "      <td>-0.000185-0.006576j</td>\n",
       "      <td>-0.000185-0.006576j</td>\n",
       "      <td>0.0+0.0j</td>\n",
       "    </tr>\n",
       "  </tbody>\n",
       "</table>\n",
       "</div>"
      ],
      "text/plain": [
       "                   10                 100      diff\n",
       "0  0.000001+0.000407j  0.000001+0.000407j  0.0+0.0j\n",
       "1 -0.000005-0.003042j -0.000005-0.003042j  0.0+0.0j\n",
       "2 -0.000013-0.000532j -0.000013-0.000532j  0.0+0.0j\n",
       "3 -0.000019-0.002326j -0.000019-0.002326j  0.0+0.0j\n",
       "4 -0.000032-0.003500j -0.000032-0.003500j  0.0+0.0j\n",
       "5 -0.000049-0.004102j -0.000049-0.004102j  0.0+0.0j\n",
       "6 -0.000075-0.008074j -0.000075-0.008074j  0.0+0.0j\n",
       "7 -0.000111-0.008279j -0.000111-0.008279j  0.0+0.0j\n",
       "8 -0.000150-0.009447j -0.000150-0.009447j  0.0+0.0j\n",
       "9 -0.000185-0.006576j -0.000185-0.006576j  0.0+0.0j"
      ]
     },
     "execution_count": 20,
     "metadata": {},
     "output_type": "execute_result"
    }
   ],
   "source": [
    "rand = np.random.uniform(-1, 1, samples)\n",
    "out_100 = get_vout(rand[:100] ,*make_circuit('H'))\n",
    "out_10 = get_vout(rand[:10] ,*make_circuit('H'))\n",
    "df = pd.DataFrame({'10': out_10, '100': out_100[:10]})\n",
    "df['diff'] = df['10'] - df['100']\n",
    "df"
   ]
  },
  {
   "attachments": {},
   "cell_type": "markdown",
   "metadata": {},
   "source": [
    "Now we can write a loop to create the output for multiple characters of the flag"
   ]
  },
  {
   "cell_type": "code",
   "execution_count": 35,
   "metadata": {},
   "outputs": [
    {
     "data": {
      "text/html": [
       "<div>\n",
       "<style scoped>\n",
       "    .dataframe tbody tr th:only-of-type {\n",
       "        vertical-align: middle;\n",
       "    }\n",
       "\n",
       "    .dataframe tbody tr th {\n",
       "        vertical-align: top;\n",
       "    }\n",
       "\n",
       "    .dataframe thead th {\n",
       "        text-align: right;\n",
       "    }\n",
       "</style>\n",
       "<table border=\"1\" class=\"dataframe\">\n",
       "  <thead>\n",
       "    <tr style=\"text-align: right;\">\n",
       "      <th></th>\n",
       "      <th>0</th>\n",
       "      <th>1</th>\n",
       "      <th>2</th>\n",
       "      <th>3</th>\n",
       "    </tr>\n",
       "  </thead>\n",
       "  <tbody>\n",
       "    <tr>\n",
       "      <th>0</th>\n",
       "      <td>0.000001+0.000407j</td>\n",
       "      <td>-0.000002+0.000000j</td>\n",
       "      <td>-5.692817e-11-8.402674e-09j</td>\n",
       "      <td>6.307940e-11-6.641601e-13j</td>\n",
       "    </tr>\n",
       "  </tbody>\n",
       "</table>\n",
       "</div>"
      ],
      "text/plain": [
       "                    0                   1                           2  \\\n",
       "0  0.000001+0.000407j -0.000002+0.000000j -5.692817e-11-8.402674e-09j   \n",
       "\n",
       "                            3  \n",
       "0  6.307940e-11-6.641601e-13j  "
      ]
     },
     "execution_count": 35,
     "metadata": {},
     "output_type": "execute_result"
    }
   ],
   "source": [
    "def test(input):\n",
    "    df = pd.DataFrame()\n",
    "    for i, char in enumerate(FLAG):\n",
    "        circuit = make_circuit(char)\n",
    "        output = get_vout(input, *circuit)\n",
    "        df[f'{i}'] = output\n",
    "        input = output\n",
    "    return(df)\n",
    "\n",
    "df = test(rand[:1])\n",
    "df\n"
   ]
  },
  {
   "attachments": {},
   "cell_type": "markdown",
   "metadata": {},
   "source": [
    "Since we a fast way to calculate the real output for our first 4 characters which are known: \"HTB{\", we can use this to find out the input"
   ]
  },
  {
   "cell_type": "code",
   "execution_count": 39,
   "metadata": {},
   "outputs": [
    {
     "name": "stdout",
     "output_type": "stream",
     "text": [
      "0.0925833004310312\n",
      "0.09258331169273437\n"
     ]
    }
   ],
   "source": [
    "from scipy.optimize import minimize\n",
    "\n",
    "def objective(x):\n",
    "    return np.linalg.norm(df.iloc[0].values.real - test(x).iloc[0].values.real)\n",
    "\n",
    "x0 = np.random.uniform(-1, 1, 1)\n",
    "\n",
    "res = minimize(objective, x0, method='L-BFGS-B')\n",
    "print(res.x[0])\n",
    "print(rand[0])"
   ]
  },
  {
   "attachments": {},
   "cell_type": "markdown",
   "metadata": {},
   "source": [
    "We can correctly get our random value back from the outputs\n",
    "So now we can do the same thing with the values given to us"
   ]
  },
  {
   "cell_type": "code",
   "execution_count": 49,
   "metadata": {},
   "outputs": [
    {
     "data": {
      "text/plain": [
       "array([-1.09132275e-06,  2.54639015e-06,  6.94949565e-11, -7.70040649e-11,\n",
       "       -7.34153962e-15,  1.54207156e-15,  1.90171022e-19, -6.26551500e-20,\n",
       "       -8.97051556e-24,  2.21704853e-24,  4.03063346e-28, -8.81076246e-29,\n",
       "       -1.97472595e-32,  3.28118277e-33,  1.10139686e-36])"
      ]
     },
     "execution_count": 49,
     "metadata": {},
     "output_type": "execute_result"
    }
   ],
   "source": [
    "expected_output = [sf.read(f'audio/encoded{i}.wav', stop=1)[0][0] for i in range(15)]\n",
    "expected_output = np.array(expected_output)\n",
    "expected_output"
   ]
  },
  {
   "cell_type": "code",
   "execution_count": 55,
   "metadata": {},
   "outputs": [
    {
     "data": {
      "text/plain": [
       "-0.11302073906332327"
      ]
     },
     "execution_count": 55,
     "metadata": {},
     "output_type": "execute_result"
    }
   ],
   "source": [
    "def objective(x):\n",
    "    return np.linalg.norm(expected_output[:4] - test(x).iloc[0].values.real)\n",
    "\n",
    "x0 = np.random.uniform(-1, 1, 1)\n",
    "\n",
    "res = minimize(objective, x0, method='L-BFGS-B')\n",
    "res.x[0]"
   ]
  },
  {
   "cell_type": "code",
   "execution_count": 83,
   "metadata": {},
   "outputs": [
    {
     "data": {
      "text/html": [
       "<div>\n",
       "<style scoped>\n",
       "    .dataframe tbody tr th:only-of-type {\n",
       "        vertical-align: middle;\n",
       "    }\n",
       "\n",
       "    .dataframe tbody tr th {\n",
       "        vertical-align: top;\n",
       "    }\n",
       "\n",
       "    .dataframe thead th {\n",
       "        text-align: right;\n",
       "    }\n",
       "</style>\n",
       "<table border=\"1\" class=\"dataframe\">\n",
       "  <thead>\n",
       "    <tr style=\"text-align: right;\">\n",
       "      <th></th>\n",
       "      <th>0</th>\n",
       "      <th>1</th>\n",
       "      <th>2</th>\n",
       "      <th>3</th>\n",
       "    </tr>\n",
       "  </thead>\n",
       "  <tbody>\n",
       "    <tr>\n",
       "      <th>0</th>\n",
       "      <td>-0.000000+0.000497j</td>\n",
       "      <td>3.789003e-12+1.212278e-08j</td>\n",
       "      <td>1.034078e-16-1.025753e-08j</td>\n",
       "      <td>-1.145813e-16-8.107710e-13j</td>\n",
       "    </tr>\n",
       "  </tbody>\n",
       "</table>\n",
       "</div>"
      ],
      "text/plain": [
       "                    0                           1                           2  \\\n",
       "0 -0.000000+0.000497j  3.789003e-12+1.212278e-08j  1.034078e-16-1.025753e-08j   \n",
       "\n",
       "                            3  \n",
       "0 -1.145813e-16-8.107710e-13j  "
      ]
     },
     "execution_count": 83,
     "metadata": {},
     "output_type": "execute_result"
    }
   ],
   "source": [
    "expected_output[:4] - test(res.x)"
   ]
  },
  {
   "cell_type": "code",
   "execution_count": 91,
   "metadata": {},
   "outputs": [
    {
     "ename": "IndexError",
     "evalue": "index 15 is out of bounds for axis 0 with size 15",
     "output_type": "error",
     "traceback": [
      "\u001b[0;31m---------------------------------------------------------------------------\u001b[0m",
      "\u001b[0;31mIndexError\u001b[0m                                Traceback (most recent call last)",
      "Cell \u001b[0;32mIn[91], line 16\u001b[0m\n\u001b[1;32m     13\u001b[0m         FLAG \u001b[39m=\u001b[39m BUILD_FLAG \u001b[39m+\u001b[39m c\n\u001b[1;32m     14\u001b[0m         results\u001b[39m.\u001b[39mappend(test(res\u001b[39m.\u001b[39mx)[\u001b[39mf\u001b[39m\u001b[39m'\u001b[39m\u001b[39m{\u001b[39;00m\u001b[39mlen\u001b[39m(BUILD_FLAG)\u001b[39m}\u001b[39;00m\u001b[39m'\u001b[39m]\u001b[39m.\u001b[39mvalues\u001b[39m.\u001b[39mreal)\n\u001b[0;32m---> 16\u001b[0m     \u001b[39mid\u001b[39m \u001b[39m=\u001b[39m find_nearest(results, expected_output[\u001b[39mlen\u001b[39;49m(BUILD_FLAG)])\n\u001b[1;32m     17\u001b[0m     BUILD_FLAG \u001b[39m+\u001b[39m\u001b[39m=\u001b[39m ALL[\u001b[39mid\u001b[39m]\n\u001b[1;32m     18\u001b[0m BUILD_FLAG \n",
      "\u001b[0;31mIndexError\u001b[0m: index 15 is out of bounds for axis 0 with size 15"
     ]
    }
   ],
   "source": [
    "from string import ascii_letters\n",
    "\n",
    "def find_nearest(array, value):\n",
    "    array = np.asarray(array)\n",
    "    idx = (np.abs(array - value)).argmin()\n",
    "    return idx\n",
    "\n",
    "ALL = ascii_letters + \"_0123456789{}\"\n",
    "BUILD_FLAG=\"\"\n",
    "for i in range(15):\n",
    "    results = []\n",
    "    for c in ALL:\n",
    "        FLAG = BUILD_FLAG + c\n",
    "        results.append(test(res.x)[f'{len(BUILD_FLAG)}'].values.real)\n",
    "\n",
    "    id = find_nearest(results, expected_output[len(BUILD_FLAG)])\n",
    "    BUILD_FLAG += ALL[id]\n",
    "BUILD_FLAG "
   ]
  },
  {
   "cell_type": "code",
   "execution_count": 197,
   "metadata": {},
   "outputs": [
    {
     "name": "stdout",
     "output_type": "stream",
     "text": [
      "[ 6.22432458e-06 -1.45232552e-05 -3.96362273e-10  4.39190234e-10]\n",
      "[-1.09132275e-06  2.54639015e-06  6.94949565e-11 -7.70040649e-11]\n",
      "....[-2.42979721e-06  5.66946093e-06  1.54728426e-10 -1.71447230e-10]\n",
      "...."
     ]
    },
    {
     "data": {
      "text/plain": [
       "3.206537900410792e-05"
      ]
     },
     "execution_count": 197,
     "metadata": {},
     "output_type": "execute_result"
    }
   ],
   "source": [
    "print(df_short.iloc[0].values.real)\n",
    "print(expected_fist[:4])\n",
    "print(test(np.random.uniform(-1, 1, 1)).iloc[0].values.real)\n",
    "\n",
    "np.linalg.norm(df_short.iloc[0].values.real - test(np.random.uniform(-1, 1, 1)).iloc[0].values.real)"
   ]
  },
  {
   "cell_type": "code",
   "execution_count": 199,
   "metadata": {},
   "outputs": [
    {
     "name": "stdout",
     "output_type": "stream",
     "text": [
      "................................................................................................................................................................................................................................................................"
     ]
    },
    {
     "data": {
      "text/plain": [
       " message: Converged (|f_n-f_(n-1)| ~= 0)\n",
       " success: True\n",
       "  status: 1\n",
       "     fun: 0.0\n",
       "       x: [-1.130e-01]\n",
       "     nit: 2\n",
       "     jac: [ 2.451e-05]\n",
       "    nfev: 64"
      ]
     },
     "execution_count": 199,
     "metadata": {},
     "output_type": "execute_result"
    }
   ],
   "source": []
  },
  {
   "cell_type": "code",
   "execution_count": 193,
   "metadata": {},
   "outputs": [
    {
     "data": {
      "text/plain": [
       "array([ 0.64461115,  0.5784696 ,  0.30330683, ..., -0.62309973,\n",
       "       -0.79778359,  0.22010035])"
      ]
     },
     "execution_count": 193,
     "metadata": {},
     "output_type": "execute_result"
    }
   ],
   "source": [
    "rand"
   ]
  },
  {
   "cell_type": "code",
   "execution_count": 229,
   "metadata": {},
   "outputs": [
    {
     "name": "stdout",
     "output_type": "stream",
     "text": [
      "................................................................................................................................................................................................................................................................................................................................................................................................................................................................................................................................................................................................................................................................................................................................................................................................................................................................................................................................................................................................................................................"
     ]
    },
    {
     "ename": "IndexError",
     "evalue": "index 15 is out of bounds for axis 0 with size 15",
     "output_type": "error",
     "traceback": [
      "\u001b[0;31m---------------------------------------------------------------------------\u001b[0m",
      "\u001b[0;31mIndexError\u001b[0m                                Traceback (most recent call last)",
      "Cell \u001b[0;32mIn[229], line 15\u001b[0m\n\u001b[1;32m     12\u001b[0m     FLAG \u001b[39m=\u001b[39m BEGIN \u001b[39m+\u001b[39m c\n\u001b[1;32m     13\u001b[0m     results\u001b[39m.\u001b[39mappend(test(res\u001b[39m.\u001b[39mx)[\u001b[39mf\u001b[39m\u001b[39m'\u001b[39m\u001b[39m{\u001b[39;00m\u001b[39mlen\u001b[39m(BEGIN)\u001b[39m}\u001b[39;00m\u001b[39m'\u001b[39m]\u001b[39m.\u001b[39mvalues\u001b[39m.\u001b[39mreal)\n\u001b[0;32m---> 15\u001b[0m \u001b[39mid\u001b[39m \u001b[39m=\u001b[39m find_nearest(results, expected_output\u001b[39m.\u001b[39;49miloc[\u001b[39m0\u001b[39;49m][\u001b[39mlen\u001b[39;49m(BEGIN)])\n\u001b[1;32m     16\u001b[0m ALL[\u001b[39mid\u001b[39m]\n",
      "File \u001b[0;32m~/.local/lib/python3.10/site-packages/pandas/core/series.py:978\u001b[0m, in \u001b[0;36mSeries.__getitem__\u001b[0;34m(self, key)\u001b[0m\n\u001b[1;32m    975\u001b[0m     key \u001b[39m=\u001b[39m unpack_1tuple(key)\n\u001b[1;32m    977\u001b[0m \u001b[39mif\u001b[39;00m is_integer(key) \u001b[39mand\u001b[39;00m \u001b[39mself\u001b[39m\u001b[39m.\u001b[39mindex\u001b[39m.\u001b[39m_should_fallback_to_positional:\n\u001b[0;32m--> 978\u001b[0m     \u001b[39mreturn\u001b[39;00m \u001b[39mself\u001b[39;49m\u001b[39m.\u001b[39;49m_values[key]\n\u001b[1;32m    980\u001b[0m \u001b[39melif\u001b[39;00m key_is_scalar:\n\u001b[1;32m    981\u001b[0m     \u001b[39mreturn\u001b[39;00m \u001b[39mself\u001b[39m\u001b[39m.\u001b[39m_get_value(key)\n",
      "\u001b[0;31mIndexError\u001b[0m: index 15 is out of bounds for axis 0 with size 15"
     ]
    },
    {
     "ename": "",
     "evalue": "",
     "output_type": "error",
     "traceback": [
      "\u001b[1;31mThe Kernel crashed while executing code in the the current cell or a previous cell. Please review the code in the cell(s) to identify a possible cause of the failure. Click <a href='https://aka.ms/vscodeJupyterKernelCrash'>here</a> for more info. View Jupyter <a href='command:jupyter.viewOutput'>log</a> for further details."
     ]
    }
   ],
   "source": [
    "from string import ascii_letters\n",
    "\n",
    "def find_nearest(array, value):\n",
    "    array = np.asarray(array)\n",
    "    idx = (np.abs(array - value)).argmin()\n",
    "    return idx\n",
    "\n",
    "ALL = ascii_letters + \"_0123456789\"\n",
    "BEGIN=\"HTB{p0le_dancez}\"\n",
    "results = []\n",
    "for c in ALL:\n",
    "    FLAG = BEGIN + c\n",
    "    results.append(test(res.x)[f'{len(BEGIN)}'].values.real)\n",
    "\n",
    "id = find_nearest(results, expected_output.iloc[0][len(BEGIN)])\n",
    "ALL[id]"
   ]
  },
  {
   "cell_type": "code",
   "execution_count": 214,
   "metadata": {},
   "outputs": [
    {
     "data": {
      "text/plain": [
       "'p'"
      ]
     },
     "execution_count": 214,
     "metadata": {},
     "output_type": "execute_result"
    }
   ],
   "source": []
  },
  {
   "cell_type": "code",
   "execution_count": 202,
   "metadata": {},
   "outputs": [
    {
     "data": {
      "text/plain": [
       "0    -1.091323e-06\n",
       "1     2.546390e-06\n",
       "2     6.949496e-11\n",
       "3    -7.700406e-11\n",
       "4    -7.341540e-15\n",
       "5     1.542072e-15\n",
       "6     1.901710e-19\n",
       "7    -6.265515e-20\n",
       "8    -8.970516e-24\n",
       "9     2.217049e-24\n",
       "10    4.030633e-28\n",
       "11   -8.810762e-29\n",
       "12   -1.974726e-32\n",
       "13    3.281183e-33\n",
       "14    1.101397e-36\n",
       "Name: 0, dtype: float64"
      ]
     },
     "execution_count": 202,
     "metadata": {},
     "output_type": "execute_result"
    }
   ],
   "source": [
    "expected_output.iloc[0]"
   ]
  },
  {
   "cell_type": "code",
   "execution_count": 189,
   "metadata": {},
   "outputs": [
    {
     "data": {
      "text/plain": [
       "array([[ 6.22432458e-06+0.00283275j],\n",
       "       [ 5.58566598e-06+0.00254209j],\n",
       "       [ 2.92871163e-06+0.00133289j],\n",
       "       ...,\n",
       "       [-6.01661164e-06-0.00273822j],\n",
       "       [-7.70334804e-06-0.00350587j],\n",
       "       [ 2.12527507e-06+0.00096723j]])"
      ]
     },
     "execution_count": 189,
     "metadata": {},
     "output_type": "execute_result"
    }
   ],
   "source": [
    "rand_transformed"
   ]
  },
  {
   "cell_type": "code",
   "execution_count": 190,
   "metadata": {},
   "outputs": [
    {
     "data": {
      "text/plain": [
       "array([ 0.64461115,  0.5784696 ,  0.30330683, ..., -0.62309973,\n",
       "       -0.79778359,  0.22010035])"
      ]
     },
     "execution_count": 190,
     "metadata": {},
     "output_type": "execute_result"
    }
   ],
   "source": [
    "rand"
   ]
  }
 ],
 "metadata": {
  "kernelspec": {
   "display_name": "Python 3",
   "language": "python",
   "name": "python3"
  },
  "language_info": {
   "codemirror_mode": {
    "name": "ipython",
    "version": 3
   },
   "file_extension": ".py",
   "mimetype": "text/x-python",
   "name": "python",
   "nbconvert_exporter": "python",
   "pygments_lexer": "ipython3",
   "version": "3.10.6"
  },
  "orig_nbformat": 4
 },
 "nbformat": 4,
 "nbformat_minor": 2
}
