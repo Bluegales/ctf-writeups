{
 "cells": [
  {
   "cell_type": "code",
   "execution_count": 1,
   "metadata": {},
   "outputs": [],
   "source": [
    "import numpy as np\n",
    "from circuit import *\n",
    "\n",
    "import soundfile as sf\n",
    "import pandas as pd\n",
    "\n",
    "duration = 240\n",
    "SAMPLE_RATE = 0x4000\n",
    "samples = int(duration * SAMPLE_RATE)\n",
    "FLAG = \"HTB{\"\n",
    "\n",
    "def encode_flag(flag, rand):\n",
    "    vin = rand\n",
    "    for i in range(len(flag)):\n",
    "        vout = simulate_chained_circuits([ZLCircuit(1j * ord(flag[i]), 1)], vin, duration, SAMPLE_RATE)[0]\n",
    "        sf.write(f'new_audio/encoded{i}.wav', np.real(vout).astype('float64'), SAMPLE_RATE, subtype='DOUBLE')\n",
    "\n",
    "        vin = vout\n",
    "        print(f'encoded {i} of {len(flag)} characters')"
   ]
  },
  {
   "attachments": {},
   "cell_type": "markdown",
   "metadata": {},
   "source": [
    "Looking at simulate_chained_circuits and simulate_chained_circuits_ we can extract all the variables which are constant for that specific character and come up with the following function:"
   ]
  },
  {
   "cell_type": "code",
   "execution_count": 2,
   "metadata": {},
   "outputs": [],
   "source": [
    "def make_circuit(flag_char):\n",
    "    c = ZLCircuit(1j * ord(flag_char), 1)\n",
    "    chain = chained_to_state_space([c])\n",
    "    n = 1\n",
    "    vout_coeffs = chain[0]\n",
    "    vin_coeff = chain[1]\n",
    "\n",
    "    state = np.zeros(n, dtype='complex')\n",
    "\n",
    "    A = np.diag(np.ones(n - 1, dtype='complex'), k=1)\n",
    "    A[-1, :] = vout_coeffs\n",
    "\n",
    "    B = np.zeros(n, dtype='complex')\n",
    "    B[-1] = vin_coeff\n",
    "\n",
    "    # x(t) = A * x(t - 1) + B * u(t)\n",
    "    h = 1 / SAMPLE_RATE\n",
    "    multiplier = h / 24 * (\n",
    "        A@A@A * h**3 + 4 * A@A * h**2 + 12 * A * h + 24 * np.eye(n)\n",
    "    ) # rk4\n",
    "    xn_coeff = (np.eye(state.shape[0]) + multiplier @ A)\n",
    "    return (multiplier, B, xn_coeff)"
   ]
  },
  {
   "attachments": {},
   "cell_type": "markdown",
   "metadata": {},
   "source": [
    "what is left are the following calculations which depend on the input:\n",
    "```python\n",
    "    output = np.zeros(len(times), dtype='complex')\n",
    "    state = np.zeros(1, dtype='complex')\n",
    "    B_un = np.transpose(np.dot(multiplier, np.transpose(np.outer(V_in, B))))\n",
    "\n",
    "    for i in range(len(times)):\n",
    "        state = xn_coeff @ state + B_un[i]\n",
    "        output[i] = state[0]\n",
    "\n",
    "    return output, times\n",
    "```"
   ]
  },
  {
   "attachments": {},
   "cell_type": "markdown",
   "metadata": {},
   "source": [
    "plotting B_un and comparing it to V_in on the first iteration:"
   ]
  },
  {
   "cell_type": "code",
   "execution_count": 3,
   "metadata": {},
   "outputs": [
    {
     "data": {
      "text/plain": [
       "<matplotlib.collections.PathCollection at 0x7fc5861965c0>"
      ]
     },
     "execution_count": 3,
     "metadata": {},
     "output_type": "execute_result"
    },
    {
     "data": {
      "image/png": "[encoded data removed]",
      "text/plain": [
       "<Figure size 640x480 with 1 Axes>"
      ]
     },
     "metadata": {},
     "output_type": "display_data"
    }
   ],
   "source": [
    "import matplotlib.pyplot as plt\n",
    "\n",
    "multiplier, B, xn_coeff = make_circuit('H')\n",
    "rand = np.random.uniform(-1, 1, samples)\n",
    "B_un = np.transpose(np.dot(multiplier, np.transpose(np.outer(rand, B))))\n",
    "\n",
    "plt.scatter(B_un.real, B_un.imag)"
   ]
  },
  {
   "cell_type": "code",
   "execution_count": 4,
   "metadata": {},
   "outputs": [
    {
     "data": {
      "text/html": [
       "<div>\n",
       "<style scoped>\n",
       "    .dataframe tbody tr th:only-of-type {\n",
       "        vertical-align: middle;\n",
       "    }\n",
       "\n",
       "    .dataframe tbody tr th {\n",
       "        vertical-align: top;\n",
       "    }\n",
       "\n",
       "    .dataframe thead th {\n",
       "        text-align: right;\n",
       "    }\n",
       "</style>\n",
       "<table border=\"1\" class=\"dataframe\">\n",
       "  <thead>\n",
       "    <tr style=\"text-align: right;\">\n",
       "      <th></th>\n",
       "      <th>random</th>\n",
       "      <th>B_un_real</th>\n",
       "      <th>B_un_imag</th>\n",
       "    </tr>\n",
       "  </thead>\n",
       "  <tbody>\n",
       "    <tr>\n",
       "      <th>random</th>\n",
       "      <td>1.0</td>\n",
       "      <td>1.0</td>\n",
       "      <td>1.0</td>\n",
       "    </tr>\n",
       "    <tr>\n",
       "      <th>B_un_real</th>\n",
       "      <td>1.0</td>\n",
       "      <td>1.0</td>\n",
       "      <td>1.0</td>\n",
       "    </tr>\n",
       "    <tr>\n",
       "      <th>B_un_imag</th>\n",
       "      <td>1.0</td>\n",
       "      <td>1.0</td>\n",
       "      <td>1.0</td>\n",
       "    </tr>\n",
       "  </tbody>\n",
       "</table>\n",
       "</div>"
      ],
      "text/plain": [
       "           random  B_un_real  B_un_imag\n",
       "random        1.0        1.0        1.0\n",
       "B_un_real     1.0        1.0        1.0\n",
       "B_un_imag     1.0        1.0        1.0"
      ]
     },
     "execution_count": 4,
     "metadata": {},
     "output_type": "execute_result"
    }
   ],
   "source": [
    "df = pd.DataFrame({'random': rand.reshape(-1), 'B_un_real': B_un.reshape(-1).real, 'B_un_imag': B_un.reshape(-1).imag})\n",
    "df.corr()"
   ]
  },
  {
   "attachments": {},
   "cell_type": "markdown",
   "metadata": {},
   "source": [
    "Seeing that there is a full correlation for the individual values of rand and B_un we can ignore the further values since we get the output of all the iterations in the loop\n",
    "Now we can change the function to take arbitrary sized inputs "
   ]
  },
  {
   "cell_type": "code",
   "execution_count": 5,
   "metadata": {},
   "outputs": [],
   "source": [
    "@nb.jit(nopython=True)\n",
    "def get_vout(V_in, multiplier, B, xn_coeff):\n",
    "    output = np.zeros(len(V_in), dtype='complex')\n",
    "    B_un = np.transpose(np.dot(multiplier, np.transpose(np.outer(V_in, B))))\n",
    "    state = np.zeros(1, dtype='complex')\n",
    "\n",
    "    for i in range(len(V_in)):\n",
    "        state = xn_coeff @ state + B_un[i]\n",
    "        output[i] = state[0]\n",
    "\n",
    "    return output"
   ]
  },
  {
   "attachments": {},
   "cell_type": "markdown",
   "metadata": {},
   "source": [
    "To test this we can run the function with different sized inputs:"
   ]
  },
  {
   "cell_type": "code",
   "execution_count": 6,
   "metadata": {},
   "outputs": [
    {
     "data": {
      "text/html": [
       "<div>\n",
       "<style scoped>\n",
       "    .dataframe tbody tr th:only-of-type {\n",
       "        vertical-align: middle;\n",
       "    }\n",
       "\n",
       "    .dataframe tbody tr th {\n",
       "        vertical-align: top;\n",
       "    }\n",
       "\n",
       "    .dataframe thead th {\n",
       "        text-align: right;\n",
       "    }\n",
       "</style>\n",
       "<table border=\"1\" class=\"dataframe\">\n",
       "  <thead>\n",
       "    <tr style=\"text-align: right;\">\n",
       "      <th></th>\n",
       "      <th>10</th>\n",
       "      <th>100</th>\n",
       "      <th>diff</th>\n",
       "    </tr>\n",
       "  </thead>\n",
       "  <tbody>\n",
       "    <tr>\n",
       "      <th>0</th>\n",
       "      <td>0.000008+0.003835j</td>\n",
       "      <td>0.000008+0.003835j</td>\n",
       "      <td>0.0+0.0j</td>\n",
       "    </tr>\n",
       "    <tr>\n",
       "      <th>1</th>\n",
       "      <td>0.000029+0.005492j</td>\n",
       "      <td>0.000029+0.005492j</td>\n",
       "      <td>0.0+0.0j</td>\n",
       "    </tr>\n",
       "    <tr>\n",
       "      <th>2</th>\n",
       "      <td>0.000050+0.004313j</td>\n",
       "      <td>0.000050+0.004313j</td>\n",
       "      <td>0.0+0.0j</td>\n",
       "    </tr>\n",
       "    <tr>\n",
       "      <th>3</th>\n",
       "      <td>0.000064+0.001939j</td>\n",
       "      <td>0.000064+0.001939j</td>\n",
       "      <td>0.0+0.0j</td>\n",
       "    </tr>\n",
       "    <tr>\n",
       "      <th>4</th>\n",
       "      <td>0.000080+0.005058j</td>\n",
       "      <td>0.000080+0.005058j</td>\n",
       "      <td>0.0+0.0j</td>\n",
       "    </tr>\n",
       "    <tr>\n",
       "      <th>5</th>\n",
       "      <td>0.000099+0.003700j</td>\n",
       "      <td>0.000099+0.003700j</td>\n",
       "      <td>0.0+0.0j</td>\n",
       "    </tr>\n",
       "    <tr>\n",
       "      <th>6</th>\n",
       "      <td>0.000121+0.006614j</td>\n",
       "      <td>0.000121+0.006614j</td>\n",
       "      <td>0.0+0.0j</td>\n",
       "    </tr>\n",
       "    <tr>\n",
       "      <th>7</th>\n",
       "      <td>0.000150+0.006219j</td>\n",
       "      <td>0.000150+0.006219j</td>\n",
       "      <td>0.0+0.0j</td>\n",
       "    </tr>\n",
       "    <tr>\n",
       "      <th>8</th>\n",
       "      <td>0.000185+0.009812j</td>\n",
       "      <td>0.000185+0.009812j</td>\n",
       "      <td>0.0+0.0j</td>\n",
       "    </tr>\n",
       "    <tr>\n",
       "      <th>9</th>\n",
       "      <td>0.000224+0.007872j</td>\n",
       "      <td>0.000224+0.007872j</td>\n",
       "      <td>0.0+0.0j</td>\n",
       "    </tr>\n",
       "  </tbody>\n",
       "</table>\n",
       "</div>"
      ],
      "text/plain": [
       "                   10                 100      diff\n",
       "0  0.000008+0.003835j  0.000008+0.003835j  0.0+0.0j\n",
       "1  0.000029+0.005492j  0.000029+0.005492j  0.0+0.0j\n",
       "2  0.000050+0.004313j  0.000050+0.004313j  0.0+0.0j\n",
       "3  0.000064+0.001939j  0.000064+0.001939j  0.0+0.0j\n",
       "4  0.000080+0.005058j  0.000080+0.005058j  0.0+0.0j\n",
       "5  0.000099+0.003700j  0.000099+0.003700j  0.0+0.0j\n",
       "6  0.000121+0.006614j  0.000121+0.006614j  0.0+0.0j\n",
       "7  0.000150+0.006219j  0.000150+0.006219j  0.0+0.0j\n",
       "8  0.000185+0.009812j  0.000185+0.009812j  0.0+0.0j\n",
       "9  0.000224+0.007872j  0.000224+0.007872j  0.0+0.0j"
      ]
     },
     "execution_count": 6,
     "metadata": {},
     "output_type": "execute_result"
    }
   ],
   "source": [
    "rand = np.random.uniform(-1, 1, samples)\n",
    "out_100 = get_vout(rand[:100] ,*make_circuit('H'))\n",
    "out_10 = get_vout(rand[:10] ,*make_circuit('H'))\n",
    "df = pd.DataFrame({'10': out_10, '100': out_100[:10]})\n",
    "df['diff'] = df['10'] - df['100']\n",
    "df"
   ]
  },
  {
   "attachments": {},
   "cell_type": "markdown",
   "metadata": {},
   "source": [
    "Now we can write a loop to create the output for multiple characters of the flag"
   ]
  },
  {
   "cell_type": "code",
   "execution_count": 7,
   "metadata": {},
   "outputs": [
    {
     "data": {
      "text/html": [
       "<div>\n",
       "<style scoped>\n",
       "    .dataframe tbody tr th:only-of-type {\n",
       "        vertical-align: middle;\n",
       "    }\n",
       "\n",
       "    .dataframe tbody tr th {\n",
       "        vertical-align: top;\n",
       "    }\n",
       "\n",
       "    .dataframe thead th {\n",
       "        text-align: right;\n",
       "    }\n",
       "</style>\n",
       "<table border=\"1\" class=\"dataframe\">\n",
       "  <thead>\n",
       "    <tr style=\"text-align: right;\">\n",
       "      <th></th>\n",
       "      <th>0</th>\n",
       "      <th>1</th>\n",
       "      <th>2</th>\n",
       "      <th>3</th>\n",
       "    </tr>\n",
       "  </thead>\n",
       "  <tbody>\n",
       "    <tr>\n",
       "      <th>0</th>\n",
       "      <td>0.000008+0.003835j</td>\n",
       "      <td>-0.00002+0.00000j</td>\n",
       "      <td>-5.365588e-10-7.919680e-08j</td>\n",
       "      <td>5.945353e-10-6.259835e-12j</td>\n",
       "    </tr>\n",
       "  </tbody>\n",
       "</table>\n",
       "</div>"
      ],
      "text/plain": [
       "                    0                 1                           2  \\\n",
       "0  0.000008+0.003835j -0.00002+0.00000j -5.365588e-10-7.919680e-08j   \n",
       "\n",
       "                            3  \n",
       "0  5.945353e-10-6.259835e-12j  "
      ]
     },
     "execution_count": 7,
     "metadata": {},
     "output_type": "execute_result"
    }
   ],
   "source": [
    "def test(input):\n",
    "    df = pd.DataFrame()\n",
    "    for i, char in enumerate(FLAG):\n",
    "        circuit = make_circuit(char)\n",
    "        output = get_vout(input, *circuit)\n",
    "        df[f'{i}'] = output\n",
    "        input = output\n",
    "    return(df)\n",
    "\n",
    "df = test(rand[:1])\n",
    "df\n"
   ]
  },
  {
   "attachments": {},
   "cell_type": "markdown",
   "metadata": {},
   "source": [
    "Since we a fast way to calculate the real output for our first 4 characters which are known: \"HTB{\", we can use this to find out the input"
   ]
  },
  {
   "cell_type": "code",
   "execution_count": 8,
   "metadata": {},
   "outputs": [
    {
     "name": "stdout",
     "output_type": "stream",
     "text": [
      "0.8726153651484871\n",
      "0.8726152480689529\n"
     ]
    }
   ],
   "source": [
    "from scipy.optimize import minimize\n",
    "\n",
    "def objective(x):\n",
    "    return np.linalg.norm(df.iloc[0].values.real - test(x).iloc[0].values.real)\n",
    "\n",
    "x0 = np.random.uniform(-1, 1, 1)\n",
    "\n",
    "res = minimize(objective, x0, method='L-BFGS-B')\n",
    "print(res.x[0])\n",
    "print(rand[0])"
   ]
  },
  {
   "attachments": {},
   "cell_type": "markdown",
   "metadata": {},
   "source": [
    "We can correctly get our random value back from the outputs\n",
    "So now we can do the same thing with the values given to us"
   ]
  },
  {
   "cell_type": "code",
   "execution_count": 10,
   "metadata": {},
   "outputs": [
    {
     "data": {
      "text/plain": [
       "array([-1.09132275e-06,  2.54639015e-06,  6.94949565e-11, -7.70040649e-11,\n",
       "       -7.34153962e-15,  1.54207156e-15,  1.90171022e-19, -6.26551500e-20,\n",
       "       -8.97051556e-24,  2.21704853e-24,  4.03063346e-28, -8.81076246e-29,\n",
       "       -1.97472595e-32,  3.28118277e-33,  1.10139686e-36])"
      ]
     },
     "execution_count": 10,
     "metadata": {},
     "output_type": "execute_result"
    }
   ],
   "source": [
    "expected_output = [sf.read(f'audio/encoded{i}.wav', stop=1)[0][0] for i in range(15)]\n",
    "expected_output = np.array(expected_output)\n",
    "expected_output"
   ]
  },
  {
   "cell_type": "code",
   "execution_count": 11,
   "metadata": {},
   "outputs": [
    {
     "data": {
      "text/plain": [
       "-0.11302110405489794"
      ]
     },
     "execution_count": 11,
     "metadata": {},
     "output_type": "execute_result"
    }
   ],
   "source": [
    "def objective(x):\n",
    "    return np.linalg.norm(expected_output[:4] - test(x).iloc[0].values.real)\n",
    "\n",
    "x0 = np.random.uniform(-1, 1, 1)\n",
    "\n",
    "res = minimize(objective, x0, method='L-BFGS-B')\n",
    "res.x[0]"
   ]
  },
  {
   "cell_type": "code",
   "execution_count": 12,
   "metadata": {},
   "outputs": [
    {
     "data": {
      "text/html": [
       "<div>\n",
       "<style scoped>\n",
       "    .dataframe tbody tr th:only-of-type {\n",
       "        vertical-align: middle;\n",
       "    }\n",
       "\n",
       "    .dataframe tbody tr th {\n",
       "        vertical-align: top;\n",
       "    }\n",
       "\n",
       "    .dataframe thead th {\n",
       "        text-align: right;\n",
       "    }\n",
       "</style>\n",
       "<table border=\"1\" class=\"dataframe\">\n",
       "  <thead>\n",
       "    <tr style=\"text-align: right;\">\n",
       "      <th></th>\n",
       "      <th>0</th>\n",
       "      <th>1</th>\n",
       "      <th>2</th>\n",
       "      <th>3</th>\n",
       "    </tr>\n",
       "  </thead>\n",
       "  <tbody>\n",
       "    <tr>\n",
       "      <th>0</th>\n",
       "      <td>0.000000+0.000497j</td>\n",
       "      <td>-4.434351e-12+1.212282e-08j</td>\n",
       "      <td>-1.210204e-16-1.025757e-08j</td>\n",
       "      <td>1.340969e-16-8.107736e-13j</td>\n",
       "    </tr>\n",
       "  </tbody>\n",
       "</table>\n",
       "</div>"
      ],
      "text/plain": [
       "                    0                           1                           2  \\\n",
       "0  0.000000+0.000497j -4.434351e-12+1.212282e-08j -1.210204e-16-1.025757e-08j   \n",
       "\n",
       "                            3  \n",
       "0  1.340969e-16-8.107736e-13j  "
      ]
     },
     "execution_count": 12,
     "metadata": {},
     "output_type": "execute_result"
    }
   ],
   "source": [
    "expected_output[:4] - test(res.x)"
   ]
  },
  {
   "cell_type": "code",
   "execution_count": 13,
   "metadata": {},
   "outputs": [
    {
     "data": {
      "text/plain": [
       "'HTB{p0le_dance}'"
      ]
     },
     "execution_count": 13,
     "metadata": {},
     "output_type": "execute_result"
    }
   ],
   "source": [
    "from string import ascii_letters\n",
    "\n",
    "def find_nearest(array, value):\n",
    "    array = np.asarray(array)\n",
    "    idx = (np.abs(array - value)).argmin()\n",
    "    return idx\n",
    "\n",
    "ALL = ascii_letters + \"_0123456789{}\"\n",
    "BUILD_FLAG=\"\"\n",
    "for i in range(15):\n",
    "    results = []\n",
    "    for c in ALL:\n",
    "        FLAG = BUILD_FLAG + c\n",
    "        results.append(test(res.x)[f'{len(BUILD_FLAG)}'].values.real)\n",
    "\n",
    "    id = find_nearest(results, expected_output[len(BUILD_FLAG)])\n",
    "    BUILD_FLAG += ALL[id]\n",
    "BUILD_FLAG "
   ]
  }
 ],
 "metadata": {
  "kernelspec": {
   "display_name": "Python 3",
   "language": "python",
   "name": "python3"
  },
  "language_info": {
   "codemirror_mode": {
    "name": "ipython",
    "version": 3
   },
   "file_extension": ".py",
   "mimetype": "text/x-python",
   "name": "python",
   "nbconvert_exporter": "python",
   "pygments_lexer": "ipython3",
   "version": "3.10.6"
  },
  "orig_nbformat": 4
 },
 "nbformat": 4,
 "nbformat_minor": 2
}
