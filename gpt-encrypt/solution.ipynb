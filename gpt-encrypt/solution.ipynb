{
 "cells": [
  {
   "cell_type": "code",
   "execution_count": 18,
   "metadata": {},
   "outputs": [
    {
     "data": {
      "text/plain": [
       "b'dam{deg.aaa.sec,deg.minasd_qweec}\\x0f\\x0f\\x0f\\x0f\\x0f\\x0f\\x0f\\x0f\\x0f\\x0f\\x0f\\x0f\\x0f\\x0f\\x0f'"
      ]
     },
     "execution_count": 18,
     "metadata": {},
     "output_type": "execute_result"
    }
   ],
   "source": [
    "from Crypto.Util.Padding import pad\n",
    "import numpy as np\n",
    "import os\n",
    "\n",
    "import cpt\n",
    "\n",
    "KEY_SIZE = 16\n",
    "BLOCK_SIZE = 16\n",
    "\n",
    "with open('flag', 'r') as f:\n",
    "    flag = f.read().strip()\n",
    "assert(len(flag) == 33)\n",
    "\n",
    "test_msg = flag.encode()\n",
    "test_msg = pad(test_msg, BLOCK_SIZE)\n",
    "test_msg"
   ]
  },
  {
   "attachments": {},
   "cell_type": "markdown",
   "metadata": {},
   "source": [
    "since the block size is 16 characters the message can be split up into 3 parts:"
   ]
  },
  {
   "cell_type": "code",
   "execution_count": 11,
   "metadata": {},
   "outputs": [
    {
     "data": {
      "text/plain": [
       "[array([[100, 100,  97, 115],\n",
       "        [ 97, 101,  97, 101],\n",
       "        [109, 103,  97,  99],\n",
       "        [123,  46,  46,  44]]),\n",
       " array([[100, 109, 115, 119],\n",
       "        [101, 105, 100, 101],\n",
       "        [103, 110,  95, 101],\n",
       "        [ 46,  97, 113,  99]]),\n",
       " array([[125,  15,  15,  15],\n",
       "        [ 15,  15,  15,  15],\n",
       "        [ 15,  15,  15,  15],\n",
       "        [ 15,  15,  15,  15]])]"
      ]
     },
     "execution_count": 11,
     "metadata": {},
     "output_type": "execute_result"
    }
   ],
   "source": [
    "test_msg_ar = [test_msg[i:i+BLOCK_SIZE] for i in range(0, len(test_msg), BLOCK_SIZE)]\n",
    "test_msg_ar = [np.array([ord(char) for char in block.decode('latin-1')]).reshape(4, 4).T for block in test_msg_ar]\n",
    "test_msg_ar"
   ]
  },
  {
   "attachments": {},
   "cell_type": "markdown",
   "metadata": {},
   "source": [
    "The last array consists of only the ending curly bracket and the padding\n",
    "\n",
    "---\n",
    "\n",
    "The encrypt and decrypt functions they can be simplified by removing the conversion to strings and just working with the arrays"
   ]
  },
  {
   "cell_type": "code",
   "execution_count": 26,
   "metadata": {},
   "outputs": [],
   "source": [
    "keys = np.array(bytearray(os.urandom(16))).reshape(4,4)\n",
    "keys\n",
    "\n",
    "def encrypt(state):\n",
    "    for i in range(4):\n",
    "        state = np.mod(state + keys[i], 256)\n",
    "        state = np.roll(state, -1, axis=0)\n",
    "        state = np.roll(state, -1, axis=1)\n",
    "    return state\n",
    "def decrypt(state):\n",
    "    for i in range(3, -1, -1):\n",
    "        state = np.roll(state, 1, axis=1)\n",
    "        state = np.roll(state, 1, axis=0)\n",
    "        state = np.mod(state - keys[i], 256)\n",
    "    return state\n",
    "def to_string(array):\n",
    "    return ''.join([chr(char) for char in array.T.flatten()]).encode('latin-1')\n",
    "\n",
    "assert((test_msg_ar[0] == decrypt(encrypt(test_msg_ar[0]))).all())"
   ]
  },
  {
   "attachments": {},
   "cell_type": "markdown",
   "metadata": {},
   "source": [
    "To make sure no mistakes were made compare it with the original function"
   ]
  },
  {
   "cell_type": "code",
   "execution_count": 27,
   "metadata": {},
   "outputs": [
    {
     "data": {
      "text/plain": [
       "b\"*'3A<=?\\x06\\x9a\\x9a\\x9ag\\xfc\\xee\\xec\\xb5\""
      ]
     },
     "execution_count": 27,
     "metadata": {},
     "output_type": "execute_result"
    }
   ],
   "source": [
    "to_string(encrypt(test_msg_ar[0]))"
   ]
  },
  {
   "cell_type": "code",
   "execution_count": 28,
   "metadata": {},
   "outputs": [
    {
     "data": {
      "text/plain": [
       "b\"*'3A<=?\\x06\\x9a\\x9a\\x9ag\\xfc\\xee\\xec\\xb5\""
      ]
     },
     "execution_count": 28,
     "metadata": {},
     "output_type": "execute_result"
    }
   ],
   "source": [
    "cpt.encrypt(to_string(test_msg_ar[0]).decode('latin-1'), keys).encode('latin-1')\n"
   ]
  },
  {
   "attachments": {},
   "cell_type": "markdown",
   "metadata": {},
   "source": [
    "The encryption function can be further simplified in the following way:"
   ]
  },
  {
   "cell_type": "code",
   "execution_count": 58,
   "metadata": {},
   "outputs": [
    {
     "name": "stdout",
     "output_type": "stream",
     "text": [
      "[198 216  57 137]\n"
     ]
    },
    {
     "data": {
      "text/plain": [
       "b\"*'3A<=?\\x06\\x9a\\x9a\\x9ag\\xfc\\xee\\xec\\xb5\""
      ]
     },
     "execution_count": 58,
     "metadata": {},
     "output_type": "execute_result"
    }
   ],
   "source": [
    "keys_simple = np.array([0, 0, 0, 0])\n",
    "for i in range(4):\n",
    "    for j in range(4):\n",
    "        keys_simple[i] += keys[(j) % 4][((4-j+i) + 4) % 4]\n",
    "keys_simple = np.mod(keys_simple, 256)\n",
    "print(keys_simple)\n",
    "\n",
    "def encrypt_simple(state):\n",
    "    return np.mod(state + keys_simple, 256)\n",
    "\n",
    "to_string(encrypt_simple(test_msg_ar[0]))"
   ]
  },
  {
   "cell_type": "code",
   "execution_count": 59,
   "metadata": {},
   "outputs": [],
   "source": [
    "original_iv = np.array(bytearray(os.urandom(16))).reshape(4,4)"
   ]
  },
  {
   "cell_type": "code",
   "execution_count": 60,
   "metadata": {},
   "outputs": [
    {
     "name": "stdout",
     "output_type": "stream",
     "text": [
      "08a6ed2d87271df9ecb0cddf846a7359\n",
      "328d461cbb1a52afc60ae52a809899fe\n",
      "1caee7f8ae4b14a6eea7f39480868526\n",
      "2767aebd791cf3811ae135d4181213b2\n"
     ]
    }
   ],
   "source": [
    "iv = original_iv\n",
    "ciphertext = [iv]\n",
    "for i in range(0, 3):\n",
    "    iv = encrypt_simple(np.bitwise_xor(iv, test_msg_ar[i]))\n",
    "    ciphertext.append(iv)\n",
    "\n",
    "for i in range(4):\n",
    "    print(to_string(ciphertext[i]).hex())"
   ]
  },
  {
   "attachments": {},
   "cell_type": "markdown",
   "metadata": {},
   "source": [
    "Tring to recover the known key values from the last ciphertext and the last part of the message which should always be constant"
   ]
  },
  {
   "cell_type": "code",
   "execution_count": 64,
   "metadata": {},
   "outputs": [
    {
     "name": "stdout",
     "output_type": "stream",
     "text": [
      "[198 216  57 137]\n"
     ]
    },
    {
     "data": {
      "text/plain": [
       "array([198, 216,  57, 137], dtype=uint8)"
      ]
     },
     "execution_count": 64,
     "metadata": {},
     "output_type": "execute_result"
    }
   ],
   "source": [
    "from scipy.optimize import brute\n",
    "\n",
    "expected = ciphertext[3]\n",
    "state = np.bitwise_xor(ciphertext[2], test_msg_ar[2])\n",
    "\n",
    "def opti_this(keys):\n",
    "    return np.abs(np.mod(state + keys, 256) - expected).sum()\n",
    "\n",
    "ranges = [(0, 256), (0, 256), (0, 256), (0, 256)]\n",
    "result = brute(opti_this, ranges, full_output=True)\n",
    "print(keys_simple)\n",
    "result[0].round().astype(np.uint8)"
   ]
  },
  {
   "attachments": {},
   "cell_type": "markdown",
   "metadata": {},
   "source": [
    "Doing the same thing with the real values now"
   ]
  },
  {
   "cell_type": "code",
   "execution_count": 65,
   "metadata": {},
   "outputs": [
    {
     "data": {
      "text/plain": [
       "[array([[121, 167, 187,  95],\n",
       "        [ 30, 167, 217,  86],\n",
       "        [200,  73,  79, 207],\n",
       "        [ 35, 156,  67, 214]]),\n",
       " array([[191, 224,  52, 247],\n",
       "        [ 33,  24,  48, 162],\n",
       "        [ 71,  81,   7, 124],\n",
       "        [250, 249, 166,  38]]),\n",
       " array([[ 52, 210,  16,  41],\n",
       "        [191, 199,  21, 112],\n",
       "        [176,  77, 250, 166],\n",
       "        [ 44,  22, 158, 246]]),\n",
       " array([[235,  39, 196, 175],\n",
       "        [ 82,  18, 191,   8],\n",
       "        [ 97, 140, 154,  50],\n",
       "        [197,  99,  54, 130]])]"
      ]
     },
     "execution_count": 65,
     "metadata": {},
     "output_type": "execute_result"
    }
   ],
   "source": [
    "output = '791ec823a7a7499cbbd94f435f56cfd6bf2147fae01851f9343007a6f7a27c2634bfb02cd2c74d161015fa9e2970a6f6eb5261c527128c63c4bf9a36af083282'\n",
    "output = [bytes.fromhex(output[i:i + BLOCK_SIZE * 2]) for i in range(0, len(output), BLOCK_SIZE * 2)]\n",
    "output_ar = [np.array([ord(char) for char in block.decode('latin-1')]).reshape(4, 4).T for block in output]\n",
    "output_ar"
   ]
  },
  {
   "cell_type": "code",
   "execution_count": 67,
   "metadata": {},
   "outputs": [
    {
     "data": {
      "text/plain": [
       "array([162,  74, 165, 137], dtype=uint8)"
      ]
     },
     "execution_count": 67,
     "metadata": {},
     "output_type": "execute_result"
    }
   ],
   "source": [
    "from scipy.optimize import brute\n",
    "\n",
    "expected = output_ar[3]\n",
    "state = np.bitwise_xor(output_ar[2], test_msg_ar[2])\n",
    "\n",
    "def opti_this(keys):\n",
    "    return np.abs(np.mod(state + keys, 256) - expected).sum()\n",
    "\n",
    "ranges = [(0, 256), (0, 256), (0, 256), (0, 256)]\n",
    "\n",
    "result = brute(opti_this, ranges, full_output=True)\n",
    "keys_simple = result[0].round().astype(np.uint8)\n",
    "keys_simple"
   ]
  },
  {
   "cell_type": "code",
   "execution_count": 81,
   "metadata": {},
   "outputs": [
    {
     "data": {
      "text/plain": [
       "'dam{1iN34R-B1O<K-<IpheR5_@R_WEaK}'"
      ]
     },
     "execution_count": 81,
     "metadata": {},
     "output_type": "execute_result"
    }
   ],
   "source": [
    "def decrypt_simple(state):\n",
    "    tmp = state - keys_simple\n",
    "    return np.where(tmp < 0, tmp + 256, tmp)\n",
    "\n",
    "msg = []\n",
    "for i in range(2, -1, -1):\n",
    "    msg.append(to_string(np.bitwise_xor(output_ar[i], decrypt_simple(output_ar[i+1]))))\n",
    "''.join([m.decode('latin-1') for m in msg[::-1]])[:33]\n"
   ]
  }
 ],
 "metadata": {
  "kernelspec": {
   "display_name": "Python 3",
   "language": "python",
   "name": "python3"
  },
  "language_info": {
   "codemirror_mode": {
    "name": "ipython",
    "version": 3
   },
   "file_extension": ".py",
   "mimetype": "text/x-python",
   "name": "python",
   "nbconvert_exporter": "python",
   "pygments_lexer": "ipython3",
   "version": "3.10.6"
  },
  "orig_nbformat": 4
 },
 "nbformat": 4,
 "nbformat_minor": 2
}
